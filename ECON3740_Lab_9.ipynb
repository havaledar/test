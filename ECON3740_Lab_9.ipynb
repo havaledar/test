{
  "nbformat": 4,
  "nbformat_minor": 0,
  "metadata": {
    "colab": {
      "provenance": [],
      "collapsed_sections": [
        "LaESFMSkUAzE"
      ],
      "toc_visible": true,
      "authorship_tag": "ABX9TyOMWh8E42gRWGqwwToeEnNg",
      "include_colab_link": true
    },
    "kernelspec": {
      "name": "python3",
      "display_name": "Python 3"
    },
    "language_info": {
      "name": "python"
    }
  },
  "cells": [
    {
      "cell_type": "markdown",
      "metadata": {
        "id": "view-in-github",
        "colab_type": "text"
      },
      "source": [
        "<a href=\"https://colab.research.google.com/github/havaledar/test/blob/main/ECON3740_Lab_9.ipynb\" target=\"_parent\"><img src=\"https://colab.research.google.com/assets/colab-badge.svg\" alt=\"Open In Colab\"/></a>"
      ]
    },
    {
      "cell_type": "markdown",
      "source": [
        "# Libraries"
      ],
      "metadata": {
        "id": "8WT583QfHLiH"
      }
    },
    {
      "cell_type": "code",
      "source": [
        "%%capture\n",
        "\n",
        "!pip install wooldridge\n",
        "!pip install stargazer\n",
        "\n",
        "import wooldridge as woo\n",
        "import statsmodels.formula.api as smf\n",
        "from stargazer.stargazer import Stargazer\n",
        "import numpy as np\n",
        "import pandas as pd"
      ],
      "metadata": {
        "id": "lAcIo8wbGv1i",
        "outputId": "837ce299-93bb-4d06-c0f5-b4ad892c7ebf",
        "colab": {
          "base_uri": "https://localhost:8080/",
          "height": 399
        }
      },
      "execution_count": 1,
      "outputs": [
        {
          "output_type": "error",
          "ename": "ModuleNotFoundError",
          "evalue": "No module named 'wooldridge'",
          "traceback": [
            "\u001b[0;31m---------------------------------------------------------------------------\u001b[0m",
            "\u001b[0;31mModuleNotFoundError\u001b[0m                       Traceback (most recent call last)",
            "\u001b[0;32m<ipython-input-1-31ee95873d63>\u001b[0m in \u001b[0;36m<cell line: 4>\u001b[0;34m()\u001b[0m\n\u001b[1;32m      2\u001b[0m \u001b[0mget_ipython\u001b[0m\u001b[0;34m(\u001b[0m\u001b[0;34m)\u001b[0m\u001b[0;34m.\u001b[0m\u001b[0msystem\u001b[0m\u001b[0;34m(\u001b[0m\u001b[0;34m'pip install stargazer'\u001b[0m\u001b[0;34m)\u001b[0m\u001b[0;34m\u001b[0m\u001b[0;34m\u001b[0m\u001b[0m\n\u001b[1;32m      3\u001b[0m \u001b[0;34m\u001b[0m\u001b[0m\n\u001b[0;32m----> 4\u001b[0;31m \u001b[0;32mimport\u001b[0m \u001b[0mwooldridge\u001b[0m \u001b[0;32mas\u001b[0m \u001b[0mwoo\u001b[0m\u001b[0;34m\u001b[0m\u001b[0;34m\u001b[0m\u001b[0m\n\u001b[0m\u001b[1;32m      5\u001b[0m \u001b[0;32mimport\u001b[0m \u001b[0mstatsmodels\u001b[0m\u001b[0;34m.\u001b[0m\u001b[0mformula\u001b[0m\u001b[0;34m.\u001b[0m\u001b[0mapi\u001b[0m \u001b[0;32mas\u001b[0m \u001b[0msmf\u001b[0m\u001b[0;34m\u001b[0m\u001b[0;34m\u001b[0m\u001b[0m\n\u001b[1;32m      6\u001b[0m \u001b[0;32mfrom\u001b[0m \u001b[0mstargazer\u001b[0m\u001b[0;34m.\u001b[0m\u001b[0mstargazer\u001b[0m \u001b[0;32mimport\u001b[0m \u001b[0mStargazer\u001b[0m\u001b[0;34m\u001b[0m\u001b[0;34m\u001b[0m\u001b[0m\n",
            "\u001b[0;31mModuleNotFoundError\u001b[0m: No module named 'wooldridge'",
            "",
            "\u001b[0;31m---------------------------------------------------------------------------\u001b[0;32m\nNOTE: If your import is failing due to a missing package, you can\nmanually install dependencies using either !pip or !apt.\n\nTo view examples of installing some common dependencies, click the\n\"Open Examples\" button below.\n\u001b[0;31m---------------------------------------------------------------------------\u001b[0m\n"
          ],
          "errorDetails": {
            "actions": [
              {
                "action": "open_url",
                "actionText": "Open Examples",
                "url": "/notebooks/snippets/importing_libraries.ipynb"
              }
            ]
          }
        }
      ]
    },
    {
      "cell_type": "markdown",
      "source": [
        "# Data"
      ],
      "metadata": {
        "id": "XxMTSNPWHJh7"
      }
    },
    {
      "cell_type": "code",
      "source": [
        "data = woo.data('kielmc')"
      ],
      "metadata": {
        "id": "iE2dqQfJHInx",
        "outputId": "f55d3b3a-3c27-40b2-816e-3fbc3a4375c6",
        "colab": {
          "base_uri": "https://localhost:8080/",
          "height": 146
        }
      },
      "execution_count": 2,
      "outputs": [
        {
          "output_type": "error",
          "ename": "NameError",
          "evalue": "name 'woo' is not defined",
          "traceback": [
            "\u001b[0;31m---------------------------------------------------------------------------\u001b[0m",
            "\u001b[0;31mNameError\u001b[0m                                 Traceback (most recent call last)",
            "\u001b[0;32m<ipython-input-2-0d98439eeaf2>\u001b[0m in \u001b[0;36m<cell line: 1>\u001b[0;34m()\u001b[0m\n\u001b[0;32m----> 1\u001b[0;31m \u001b[0mdata\u001b[0m \u001b[0;34m=\u001b[0m \u001b[0mwoo\u001b[0m\u001b[0;34m.\u001b[0m\u001b[0mdata\u001b[0m\u001b[0;34m(\u001b[0m\u001b[0;34m'kielmc'\u001b[0m\u001b[0;34m)\u001b[0m\u001b[0;34m\u001b[0m\u001b[0;34m\u001b[0m\u001b[0m\n\u001b[0m",
            "\u001b[0;31mNameError\u001b[0m: name 'woo' is not defined"
          ]
        }
      ]
    },
    {
      "cell_type": "markdown",
      "source": [
        "# Rgression 1"
      ],
      "metadata": {
        "id": "Adtwy8E_HstZ"
      }
    },
    {
      "cell_type": "code",
      "source": [
        "model1 = smf.ols('np.log(price) ~ np.log(dist) + np.log(intst) + np.log(area) + np.log(land) + rooms + baths + age', data).fit()\n",
        "\n",
        "print(model1.summary())"
      ],
      "metadata": {
        "id": "vcpleiXlHUlC"
      },
      "execution_count": null,
      "outputs": []
    },
    {
      "cell_type": "code",
      "source": [
        "stargazer = Stargazer([model1])\n",
        "\n",
        "stargazer"
      ],
      "metadata": {
        "id": "l85p7gk4MTui"
      },
      "execution_count": null,
      "outputs": []
    },
    {
      "cell_type": "markdown",
      "source": [
        "# Regression 2"
      ],
      "metadata": {
        "id": "InqHe4H5KMvb"
      }
    },
    {
      "cell_type": "code",
      "source": [
        "model2 = smf.ols('np.log(price) ~ np.log(dist) + np.log(intst) + I(np.log(intst)**2) + np.log(area) + np.log(land) + rooms + baths + age', data).fit()\n",
        "\n",
        "print(model2.summary())"
      ],
      "metadata": {
        "id": "vncvG9ZsHw4D"
      },
      "execution_count": null,
      "outputs": []
    },
    {
      "cell_type": "code",
      "source": [
        "stargazer = Stargazer([model2])\n",
        "\n",
        "stargazer"
      ],
      "metadata": {
        "id": "hJuqu5LrMLJv"
      },
      "execution_count": null,
      "outputs": []
    },
    {
      "cell_type": "markdown",
      "source": [
        "# Regression 3"
      ],
      "metadata": {
        "id": "osZaSz28LZsE"
      }
    },
    {
      "cell_type": "code",
      "source": [
        "model3 = smf.ols('np.log(price) ~ np.log(dist) + I(np.log(dist)**2) + np.log(intst) + I(np.log(intst)**2) + np.log(area) + np.log(land) + rooms + baths + age', data).fit()\n",
        "\n",
        "print(model3.summary())"
      ],
      "metadata": {
        "id": "6XBNSvzhLbqz"
      },
      "execution_count": null,
      "outputs": []
    },
    {
      "cell_type": "code",
      "source": [
        "stargazer = Stargazer([model3])\n",
        "\n",
        "stargazer"
      ],
      "metadata": {
        "id": "xAnFGcObMC6N"
      },
      "execution_count": null,
      "outputs": []
    },
    {
      "cell_type": "markdown",
      "source": [
        "# All"
      ],
      "metadata": {
        "id": "FNftDj3OMdPJ"
      }
    },
    {
      "cell_type": "code",
      "source": [
        "stargazer = Stargazer([model1, model2, model3])\n",
        "\n",
        "stargazer"
      ],
      "metadata": {
        "id": "kDi8AAATMfFV"
      },
      "execution_count": null,
      "outputs": []
    },
    {
      "cell_type": "markdown",
      "source": [
        "# Title"
      ],
      "metadata": {
        "id": "wHtayGt2NJYR"
      }
    },
    {
      "cell_type": "code",
      "source": [
        "stargazer.title(\"Regression Analysis Results\")\n",
        "\n",
        "stargazer"
      ],
      "metadata": {
        "id": "znd-Y-Y7NKsA"
      },
      "execution_count": null,
      "outputs": []
    },
    {
      "cell_type": "markdown",
      "source": [
        "# Custom Model Names"
      ],
      "metadata": {
        "id": "5L8UAthXNzbr"
      }
    },
    {
      "cell_type": "code",
      "source": [
        "stargazer.custom_columns(['Model 1', 'Model 2', 'Model 3'], [1, 1, 1])\n",
        "stargazer"
      ],
      "metadata": {
        "id": "91SjzHAoNz3U"
      },
      "execution_count": null,
      "outputs": []
    },
    {
      "cell_type": "markdown",
      "source": [
        "# Remove Model Numbers"
      ],
      "metadata": {
        "id": "0xNavO05OLQx"
      }
    },
    {
      "cell_type": "code",
      "source": [
        "stargazer.show_model_numbers(False)\n",
        "stargazer"
      ],
      "metadata": {
        "id": "TbLuTv37OMEw"
      },
      "execution_count": null,
      "outputs": []
    },
    {
      "cell_type": "markdown",
      "source": [
        "# Specify Significant Digits"
      ],
      "metadata": {
        "id": "JMUFikNuOiog"
      }
    },
    {
      "cell_type": "code",
      "source": [
        "stargazer.significant_digits(2)\n",
        "stargazer"
      ],
      "metadata": {
        "id": "MmIGX3xjOmKe"
      },
      "execution_count": null,
      "outputs": []
    },
    {
      "cell_type": "markdown",
      "source": [
        "# Show Confidence Intervals Over Standard Errors"
      ],
      "metadata": {
        "id": "dB9FlwqbOqll"
      }
    },
    {
      "cell_type": "code",
      "source": [
        "stargazer.show_confidence_intervals(True)\n",
        "stargazer"
      ],
      "metadata": {
        "id": "HyDgJ9xdO6_i"
      },
      "execution_count": null,
      "outputs": []
    },
    {
      "cell_type": "markdown",
      "source": [
        "# Subset Covariates and/or Choose Covariate Order"
      ],
      "metadata": {
        "id": "cNDhvriMQeFn"
      }
    },
    {
      "cell_type": "code",
      "source": [
        "stargazer.covariate_order(['rooms', 'baths', 'age'])\n",
        "stargazer"
      ],
      "metadata": {
        "id": "tmcGz6dmQiyP"
      },
      "execution_count": null,
      "outputs": []
    },
    {
      "cell_type": "markdown",
      "source": [
        "# Rename Covariates"
      ],
      "metadata": {
        "id": "NTqb0ZmmQ0M0"
      }
    },
    {
      "cell_type": "code",
      "source": [
        "stargazer.cov_names"
      ],
      "metadata": {
        "id": "TLBk060ZTqe9"
      },
      "execution_count": null,
      "outputs": []
    },
    {
      "cell_type": "code",
      "source": [
        "stargazer = Stargazer([model1, model2, model3])\n",
        "\n",
        "stargazer"
      ],
      "metadata": {
        "id": "Bm4Ttmf6T5h6"
      },
      "execution_count": null,
      "outputs": []
    },
    {
      "cell_type": "code",
      "source": [
        "stargazer.rename_covariates({\n",
        "    'I(np.log(dist) ** 2)': 'Log(Distance) Squared',\n",
        "    'I(np.log(intst) ** 2)': 'Log(Intensity) Squared',\n",
        "    'np.log(area)': 'Log(Area)',\n",
        "    'np.log(dist)': 'Log(Distance)',\n",
        "    'np.log(intst)': 'Log(Intensity)',\n",
        "    'np.log(land)': 'Log(Land)',\n",
        "    'rooms': 'Rooms',\n",
        "    'baths': 'Bathrooms',\n",
        "    'age': 'Age'\n",
        "})\n",
        "\n",
        "stargazer.dependent_variable_name(\"Log(Price)\")\n",
        "\n",
        "stargazer"
      ],
      "metadata": {
        "id": "B8Hch5WVQ0oD"
      },
      "execution_count": null,
      "outputs": []
    },
    {
      "cell_type": "markdown",
      "source": [
        "# Hide/Show Degrees of Freedom"
      ],
      "metadata": {
        "id": "mDUXufilVlKS"
      }
    },
    {
      "cell_type": "code",
      "source": [
        "stargazer.show_degrees_of_freedom(False)\n",
        "stargazer"
      ],
      "metadata": {
        "id": "-lRfpRh6VnnU"
      },
      "execution_count": null,
      "outputs": []
    },
    {
      "cell_type": "markdown",
      "source": [
        "# Show Custom Notes"
      ],
      "metadata": {
        "id": "YIjFVSwQWS4l"
      }
    },
    {
      "cell_type": "code",
      "source": [
        "stargazer.add_custom_notes(['First note', 'Second note'])\n",
        "stargazer"
      ],
      "metadata": {
        "id": "RUHRqPffWU9b"
      },
      "execution_count": null,
      "outputs": []
    },
    {
      "cell_type": "markdown",
      "source": [
        "#Change Statistical Significance Cutoffs"
      ],
      "metadata": {
        "id": "H701NsBvWolT"
      }
    },
    {
      "cell_type": "code",
      "source": [
        "stargazer.significance_levels([0.1, 0.05, 0.07])\n",
        "stargazer"
      ],
      "metadata": {
        "id": "Ryd27bGtgPD7"
      },
      "execution_count": null,
      "outputs": []
    },
    {
      "cell_type": "code",
      "source": [
        "####"
      ],
      "metadata": {
        "id": "CFf0anPIaZ_D"
      },
      "execution_count": null,
      "outputs": []
    },
    {
      "cell_type": "markdown",
      "source": [
        "# Don't Show Statistical Significance Levels In Notes"
      ],
      "metadata": {
        "id": "j47R4GjkgV48"
      }
    },
    {
      "cell_type": "code",
      "source": [
        "stargazer.append_notes(False)\n",
        "stargazer"
      ],
      "metadata": {
        "id": "GOIFCvsngYsg"
      },
      "execution_count": null,
      "outputs": []
    },
    {
      "cell_type": "markdown",
      "source": [
        "# Add spacing between rows"
      ],
      "metadata": {
        "id": "N8utpHPLgeGH"
      }
    },
    {
      "cell_type": "code",
      "source": [
        "stargazer.cov_spacing = 2\n",
        "stargazer"
      ],
      "metadata": {
        "id": "oAqsaGepggeT"
      },
      "execution_count": null,
      "outputs": []
    },
    {
      "cell_type": "markdown",
      "source": [
        "# HTML"
      ],
      "metadata": {
        "id": "Uw0xxnSKNx6b"
      }
    },
    {
      "cell_type": "code",
      "source": [
        "stargazer.render_html()"
      ],
      "metadata": {
        "id": "_Pm2KhX5i7R_"
      },
      "execution_count": null,
      "outputs": []
    },
    {
      "cell_type": "code",
      "source": [
        "%%html\n",
        "<table style=\"text-align:center\"><tr><td colspan=\"4\" style=\"border-bottom: 1px solid black\"></td></tr>\n",
        "<tr><td style=\"text-align:left\"></td><td colspan=\"3\"><em>Dependent variable: Log(Price)</em></td></tr><tr><td style=\"text-align:left\"></td><tr><td style=\"text-align:left\"></td><td>(1)</td><td>(2)</td><td>(3)</td></tr>\n",
        "<tr><td colspan=\"4\" style=\"border-bottom: 1px solid black\"></td></tr>\n",
        "\n",
        "<tr><td style=\"text-align:left\">Log(Distance) Squared</td><td></td><td></td><td>-0.103<sup></sup></td></tr>\n",
        "<tr><td style=\"text-align:left;padding-bottom:2em\"></td><td style=\"padding-bottom:2em\"></td><td style=\"padding-bottom:2em\"></td><td style=\"padding-bottom:2em\">(0.093)</td></tr>\n",
        "<tr><td style=\"text-align:left\">Log(Intensity) Squared</td><td></td><td>-0.113<sup>***</sup></td><td>-0.089<sup>***</sup></td></tr>\n",
        "<tr><td style=\"text-align:left;padding-bottom:2em\"></td><td style=\"padding-bottom:2em\"></td><td style=\"padding-bottom:2em\">(0.025)</td><td style=\"padding-bottom:2em\">(0.033)</td></tr>\n",
        "<tr><td style=\"text-align:left\">Intercept</td><td>6.300<sup>***</sup></td><td>-3.791<sup>*</sup></td><td>-11.105<sup></sup></td></tr>\n",
        "<tr><td style=\"text-align:left;padding-bottom:2em\"></td><td style=\"padding-bottom:2em\">(0.596)</td><td style=\"padding-bottom:2em\">(2.296)</td><td style=\"padding-bottom:2em\">(7.006)</td></tr>\n",
        "<tr><td style=\"text-align:left\">Age</td><td>-0.004<sup>***</sup></td><td>-0.004<sup>***</sup></td><td>-0.004<sup>***</sup></td></tr>\n",
        "<tr><td style=\"text-align:left;padding-bottom:2em\"></td><td style=\"padding-bottom:2em\">(0.001)</td><td style=\"padding-bottom:2em\">(0.001)</td><td style=\"padding-bottom:2em\">(0.001)</td></tr>\n",
        "<tr><td style=\"text-align:left\">Bathrooms</td><td>0.107<sup>***</sup></td><td>0.090<sup>***</sup></td><td>0.089<sup>***</sup></td></tr>\n",
        "<tr><td style=\"text-align:left;padding-bottom:2em\"></td><td style=\"padding-bottom:2em\">(0.035)</td><td style=\"padding-bottom:2em\">(0.034)</td><td style=\"padding-bottom:2em\">(0.034)</td></tr>\n",
        "<tr><td style=\"text-align:left\">Log(Area)</td><td>0.512<sup>***</sup></td><td>0.514<sup>***</sup></td><td>0.506<sup>***</sup></td></tr>\n",
        "<tr><td style=\"text-align:left;padding-bottom:2em\"></td><td style=\"padding-bottom:2em\">(0.070)</td><td style=\"padding-bottom:2em\">(0.068)</td><td style=\"padding-bottom:2em\">(0.068)</td></tr>\n",
        "<tr><td style=\"text-align:left\">Log(Distance)</td><td>0.028<sup></sup></td><td>0.190<sup>***</sup></td><td>2.110<sup></sup></td></tr>\n",
        "<tr><td style=\"text-align:left;padding-bottom:2em\"></td><td style=\"padding-bottom:2em\">(0.053)</td><td style=\"padding-bottom:2em\">(0.063)</td><td style=\"padding-bottom:2em\">(1.739)</td></tr>\n",
        "<tr><td style=\"text-align:left\">Log(Intensity)</td><td>-0.044<sup></sup></td><td>1.902<sup>***</sup></td><td>1.520<sup>***</sup></td></tr>\n",
        "<tr><td style=\"text-align:left;padding-bottom:2em\"></td><td style=\"padding-bottom:2em\">(0.042)</td><td style=\"padding-bottom:2em\">(0.431)</td><td style=\"padding-bottom:2em\">(0.552)</td></tr>\n",
        "<tr><td style=\"text-align:left\">Log(Land)</td><td>0.078<sup>***</sup></td><td>0.107<sup>***</sup></td><td>0.097<sup>***</sup></td></tr>\n",
        "<tr><td style=\"text-align:left;padding-bottom:2em\"></td><td style=\"padding-bottom:2em\">(0.034)</td><td style=\"padding-bottom:2em\">(0.033)</td><td style=\"padding-bottom:2em\">(0.034)</td></tr>\n",
        "<tr><td style=\"text-align:left\">Rooms</td><td>0.050<sup>***</sup></td><td>0.049<sup>***</sup></td><td>0.048<sup>***</sup></td></tr>\n",
        "<tr><td style=\"text-align:left;padding-bottom:2em\"></td><td style=\"padding-bottom:2em\">(0.024)</td><td style=\"padding-bottom:2em\">(0.023)</td><td style=\"padding-bottom:2em\">(0.023)</td></tr>\n",
        "\n",
        "<tr><td style=\"text-align: left\">More controls</td><td>No</td><td>No</td><td>Yes</td></tr><tr><td style=\"text-align: left\">More controls</td><td>No</td><td>No</td><td>Yes</td></tr><tr><td style=\"text-align: left\">More controls</td><td>No</td><td>No</td><td>Yes</td></tr><tr><td style=\"text-align: left\">More controls</td><td>No</td><td>No</td><td>Yes</td></tr><tr><td style=\"text-align: left\">More controls</td><td>No</td><td>No</td><td>Yes</td></tr><tr><td style=\"text-align: left\">More controls</td><td>No</td><td>No</td><td>Yes</td></tr><td colspan=\"4\" style=\"border-bottom: 1px solid black\"></td></tr>\n",
        "<tr><td style=\"text-align: left\">Observations</td><td>321</td><td>321</td><td>321</td></tr><tr><td style=\"text-align: left\">R<sup>2</sup></td><td>0.593</td><td>0.618</td><td>0.619</td></tr><tr><td style=\"text-align: left\">Adjusted R<sup>2</sup></td><td>0.583</td><td>0.608</td><td>0.608</td></tr><tr><td style=\"text-align: left\">Residual Std. Error</td><td>0.283</td><td>0.274</td><td>0.274</td></tr><tr><td style=\"text-align: left\">F Statistic</td><td>65.017<sup>***</sup></td><td>63.036<sup>***</sup></td><td>56.207<sup>***</sup></td></tr>\n",
        "<tr><td colspan=\"4\" style=\"border-bottom: 1px solid black\"></td></tr><tr><td style=\"text-align: left\">Note:</td></tr><td colspan=\"4\" style=\"text-align: right\">First note</td></tr><tr><td colspan=\"4\" style=\"text-align: right\">Second note</td></tr></table>"
      ],
      "metadata": {
        "id": "XgBTKvkt4Lqg"
      },
      "execution_count": null,
      "outputs": []
    },
    {
      "cell_type": "markdown",
      "source": [
        "```html\n",
        "<div style=\"text-align: center;\">\n",
        "  <h1 style=\"color: blue;\">Welcome to Google Colab!</h1>\n",
        "  <p>This is a sample HTML content displayed in a text cell.</p>\n",
        "  <a href=\"https://colab.research.google.com/\" target=\"_blank\">Visit Google Colab</a>\n",
        "</div>\n",
        "```"
      ],
      "metadata": {
        "id": "Imcw9ngG3DY6"
      }
    },
    {
      "cell_type": "markdown",
      "source": [
        "# Latex"
      ],
      "metadata": {
        "id": "p5rWLScgNU66"
      }
    },
    {
      "cell_type": "code",
      "source": [
        "print(stargazer.render_latex())"
      ],
      "metadata": {
        "id": "m6bycLzvNZD5"
      },
      "execution_count": null,
      "outputs": []
    },
    {
      "cell_type": "markdown",
      "source": [
        "\\begin{array}{@{\\extracolsep{5pt}}lccc}\n",
        "\\\\[-1.8ex]\\hline\n",
        "\\\\[-1.8ex] & (1) & (2) & (3) \\\\\n",
        "\\hline \\\\[-1.8ex]\n",
        " I(np.log(dist) ** 2) & & & -0.103$^{}$ \\\\\n",
        "& & & (0.093) \\\\\n",
        " I(np.log(intst) ** 2) & & -0.113$^{***}$ & -0.089$^{***}$ \\\\\n",
        "& & (0.025) & (0.033) \\\\\n",
        " Intercept & 6.300$^{***}$ & -3.791$^{*}$ & -11.105$^{}$ \\\\\n",
        "& (0.596) & (2.296) & (7.006) \\\\\n",
        " age & -0.004$^{***}$ & -0.004$^{***}$ & -0.004$^{***}$ \\\\\n",
        "& (0.001) & (0.001) & (0.001) \\\\\n",
        " baths & 0.107$^{***}$ & 0.090$^{***}$ & 0.089$^{***}$ \\\\\n",
        "& (0.035) & (0.034) & (0.034) \\\\\n",
        " np.log(area) & 0.512$^{***}$ & 0.514$^{***}$ & 0.506$^{***}$ \\\\\n",
        "& (0.070) & (0.068) & (0.068) \\\\\n",
        " np.log(dist) & 0.028$^{}$ & 0.190$^{***}$ & 2.110$^{}$ \\\\\n",
        "& (0.053) & (0.063) & (1.739) \\\\\n",
        " np.log(intst) & -0.044$^{}$ & 1.902$^{***}$ & 1.520$^{***}$ \\\\\n",
        "& (0.042) & (0.431) & (0.552) \\\\\n",
        " np.log(land) & 0.078$^{**}$ & 0.107$^{***}$ & 0.097$^{***}$ \\\\\n",
        "& (0.034) & (0.033) & (0.034) \\\\\n",
        " rooms & 0.050$^{**}$ & 0.049$^{**}$ & 0.048$^{**}$ \\\\\n",
        "& (0.024) & (0.023) & (0.023) \\\\\n",
        "\\hline \\\\[-1.8ex]\n",
        " Observations & 321 & 321 & 321 \\\\\n",
        " $R^2$ & 0.593 & 0.618 & 0.619 \\\\\n",
        " Adjusted $R^2$ & 0.583 & 0.608 & 0.608 \\\\\n",
        " Residual Std. Error & 0.283 (df=313) & 0.274 (df=312) & 0.274 (df=311) \\\\\n",
        " F Statistic & 65.017$^{***}$ (df=7; 313) & 63.036$^{***}$ (df=8; 312) & 56.207$^{***}$ (df=9; 311) \\\\\n",
        "\\hline\n",
        "\\hline \\\\[-1.8ex]\n",
        "\\end{array}"
      ],
      "metadata": {
        "id": "JVVYMKD5jFJ2"
      }
    },
    {
      "cell_type": "markdown",
      "source": [
        "\\begin{array}{ccc}\n",
        "foo&bar&baz\\\\\n",
        "1&2&3\n",
        "\\end{array}"
      ],
      "metadata": {
        "id": "ckQ_FnXX2F47"
      }
    }
  ]
}