{
  "nbformat": 4,
  "nbformat_minor": 0,
  "metadata": {
    "colab": {
      "provenance": [],
      "authorship_tag": "ABX9TyM07O3gP66Yg2f6L1fUCbt7",
      "include_colab_link": true
    },
    "kernelspec": {
      "name": "python3",
      "display_name": "Python 3"
    },
    "language_info": {
      "name": "python"
    }
  },
  "cells": [
    {
      "cell_type": "markdown",
      "metadata": {
        "id": "view-in-github",
        "colab_type": "text"
      },
      "source": [
        "<a href=\"https://colab.research.google.com/github/havaledar/test/blob/main/ECON3740_Lab_6.ipynb\" target=\"_parent\"><img src=\"https://colab.research.google.com/assets/colab-badge.svg\" alt=\"Open In Colab\"/></a>"
      ]
    },
    {
      "cell_type": "markdown",
      "source": [
        "# Matplotlib"
      ],
      "metadata": {
        "id": "_Rb1fYJlHMLA"
      }
    },
    {
      "cell_type": "markdown",
      "source": [
        "## Basics of matplotlib and its plotting functions\n",
        "Matplotlib is a comprehensive library for creating static, animated, and interactive visualizations in Python. It's highly customizable and works well with numpy and pandas data structures, making it a popular choice for data visualization in scientific computing."
      ],
      "metadata": {
        "id": "lPL2x5Ail0k7"
      }
    },
    {
      "cell_type": "markdown",
      "source": [
        "## Libraries\n",
        "First, let's import the matplotlib library along with numpy for some basic data manipulation:"
      ],
      "metadata": {
        "id": "NHNv98TqmI3N"
      }
    },
    {
      "cell_type": "code",
      "source": [
        "import numpy as np\n",
        "import pandas as pd\n",
        "\n",
        "import matplotlib.pyplot as plt\n",
        "from scipy.stats import gaussian_kde"
      ],
      "metadata": {
        "id": "0-EEFfwNmLJy"
      },
      "execution_count": null,
      "outputs": []
    },
    {
      "cell_type": "markdown",
      "source": [
        "## Type of plots"
      ],
      "metadata": {
        "id": "sJVyjEyMKWfX"
      }
    },
    {
      "cell_type": "markdown",
      "source": [
        "### Line Plot\n",
        "A basic plot to display data points linearly connected by straight line segments."
      ],
      "metadata": {
        "id": "GvfyuZqnKpGT"
      }
    },
    {
      "cell_type": "code",
      "source": [
        "x = np.linspace(0, 10, 100)\n",
        "y = np.sin(x)"
      ],
      "metadata": {
        "id": "19JmOILP22wA"
      },
      "execution_count": null,
      "outputs": []
    },
    {
      "cell_type": "code",
      "source": [
        "plt.plot(x, y)\n",
        "\n",
        "plt.show()"
      ],
      "metadata": {
        "id": "q_8e1gg0KbHv"
      },
      "execution_count": null,
      "outputs": []
    },
    {
      "cell_type": "markdown",
      "source": [
        "### Scatter Plot\n",
        "Used to plot points on a horizontal and vertical axis to show how much one variable is affected by another."
      ],
      "metadata": {
        "id": "5gcOK44YK0ib"
      }
    },
    {
      "cell_type": "code",
      "source": [
        "# x = np.random.rand(100)\n",
        "# y = np.random.rand(100)"
      ],
      "metadata": {
        "id": "UrESBwr_3NAP"
      },
      "execution_count": null,
      "outputs": []
    },
    {
      "cell_type": "code",
      "source": [
        "plt.scatter(x, y)\n",
        "\n",
        "plt.show()"
      ],
      "metadata": {
        "id": "NGHMhVewK4a_"
      },
      "execution_count": null,
      "outputs": []
    },
    {
      "cell_type": "markdown",
      "source": [
        "### Bar Chart\n",
        "A bar chart represents data with rectangular bars with lengths proportional to the values they represent."
      ],
      "metadata": {
        "id": "SlZ6bUq7LAN8"
      }
    },
    {
      "cell_type": "code",
      "source": [
        "categories = ['A', 'B', 'C', 'D']\n",
        "values = [25, 35, 15, 20]"
      ],
      "metadata": {
        "id": "ZrazTlj-3fSb"
      },
      "execution_count": null,
      "outputs": []
    },
    {
      "cell_type": "code",
      "source": [
        "plt.bar(categories, values)\n",
        "\n",
        "plt.show()"
      ],
      "metadata": {
        "id": "M9NzcqUBLDSF"
      },
      "execution_count": null,
      "outputs": []
    },
    {
      "cell_type": "markdown",
      "source": [
        "### Pie Chart\n",
        "A pie chart is a circular statistical graphic divided into slices to illustrate numerical proportion."
      ],
      "metadata": {
        "id": "R8iawydgLZXI"
      }
    },
    {
      "cell_type": "code",
      "source": [
        "# sizes = [25, 35, 20, 20]\n",
        "# labels = ['Category A', 'Category B', 'Category C', 'Category D']"
      ],
      "metadata": {
        "id": "w0JCcRmL36hX"
      },
      "execution_count": null,
      "outputs": []
    },
    {
      "cell_type": "code",
      "source": [
        "plt.pie(values, labels=categories)\n",
        "\n",
        "plt.show()"
      ],
      "metadata": {
        "id": "U85W-ewZLa4A"
      },
      "execution_count": null,
      "outputs": []
    },
    {
      "cell_type": "markdown",
      "source": [
        "###Histogram\n",
        "A histogram represents the distribution of data by forming bins along the range of the data and then drawing bars to show the number of observations that fall in each bin."
      ],
      "metadata": {
        "id": "I2VGy2I2LNyd"
      }
    },
    {
      "cell_type": "markdown",
      "source": [
        "https://matplotlib.org/stable/api/_as_gen/matplotlib.pyplot.hist.html"
      ],
      "metadata": {
        "id": "8UyJx4Z9F_cR"
      }
    },
    {
      "cell_type": "code",
      "source": [
        "data = np.random.randn(1000)"
      ],
      "metadata": {
        "id": "_3lu5c1h4ztw"
      },
      "execution_count": null,
      "outputs": []
    },
    {
      "cell_type": "code",
      "source": [
        "plt.hist(data)\n",
        "\n",
        "plt.show()"
      ],
      "metadata": {
        "id": "bhjesVALLPsV"
      },
      "execution_count": null,
      "outputs": []
    },
    {
      "cell_type": "code",
      "source": [
        "plt.hist(data, density=True)\n",
        "\n",
        "plt.show()"
      ],
      "metadata": {
        "id": "IgDiF8sYa0L3"
      },
      "execution_count": null,
      "outputs": []
    },
    {
      "cell_type": "code",
      "source": [
        "plt.hist(data, density=True)\n",
        "\n",
        "kde = gaussian_kde(data)\n",
        "x = np.linspace(min(data), max(data), 1000)\n",
        "plt.plot(x, kde(x), color='orange')\n",
        "\n",
        "plt.show()"
      ],
      "metadata": {
        "id": "v7-BmIKCeFTp"
      },
      "execution_count": null,
      "outputs": []
    },
    {
      "cell_type": "markdown",
      "source": [
        "### Box Plot\n",
        "A box plot, or box-and-whisker plot, shows the distribution of quantitative data in a way that facilitates comparisons between variables or across levels of a categorical variable."
      ],
      "metadata": {
        "id": "DfCKI539Lre4"
      }
    },
    {
      "cell_type": "code",
      "source": [
        "data = np.random.rand(10, 4)"
      ],
      "metadata": {
        "id": "FUXcnwxq7Oiu"
      },
      "execution_count": null,
      "outputs": []
    },
    {
      "cell_type": "code",
      "source": [
        "plt.boxplot(data)\n",
        "\n",
        "plt.show()"
      ],
      "metadata": {
        "id": "6xEt8Io2LuXk"
      },
      "execution_count": null,
      "outputs": []
    },
    {
      "cell_type": "markdown",
      "source": [
        "### Heatmap\n",
        "A heatmap contains values represented as colors and is used for visualizing the correlation matrix, among other uses."
      ],
      "metadata": {
        "id": "qg7e-WxwMJll"
      }
    },
    {
      "cell_type": "code",
      "source": [
        "data = np.random.rand(10, 10)"
      ],
      "metadata": {
        "id": "5z3mNYhH7nVR"
      },
      "execution_count": null,
      "outputs": []
    },
    {
      "cell_type": "code",
      "source": [
        "plt.imshow(data, cmap='hot', interpolation='nearest')\n",
        "\n",
        "plt.show()"
      ],
      "metadata": {
        "id": "jI5it6cFMKCf"
      },
      "execution_count": null,
      "outputs": []
    },
    {
      "cell_type": "markdown",
      "source": [
        "## Residuals"
      ],
      "metadata": {
        "id": "IKK19iqXI18s"
      }
    },
    {
      "cell_type": "code",
      "source": [
        "%%capture\n",
        "!pip install wooldridge\n",
        "\n",
        "import wooldridge as woo\n",
        "import statsmodels.formula.api as smf"
      ],
      "metadata": {
        "id": "pa6h6lNk8Jye"
      },
      "execution_count": null,
      "outputs": []
    },
    {
      "cell_type": "code",
      "source": [
        "data = woo.data('ceosal2')\n",
        "\n",
        "model = smf.ols('salary ~ ceoten', data)\n",
        "\n",
        "results = model.fit()\n",
        "\n",
        "print(results.summary())"
      ],
      "metadata": {
        "id": "baHo_ySQ9VeP"
      },
      "execution_count": null,
      "outputs": []
    },
    {
      "cell_type": "code",
      "source": [
        "results.resid"
      ],
      "metadata": {
        "id": "pj7SuSxG8o0Q"
      },
      "execution_count": null,
      "outputs": []
    },
    {
      "cell_type": "markdown",
      "source": [
        "## CEOSAL plot\n",
        "Now, we'll create a simple line plot."
      ],
      "metadata": {
        "id": "ReSytkvomNDY"
      }
    },
    {
      "cell_type": "code",
      "source": [
        "%%capture\n",
        "\n",
        "!pip install wooldridge\n",
        "\n",
        "import wooldridge as woo\n",
        "\n",
        "data = woo.data('ceosal2')"
      ],
      "metadata": {
        "id": "NGRM5IG9Fyy8"
      },
      "execution_count": null,
      "outputs": []
    },
    {
      "cell_type": "code",
      "source": [
        "x = data['ceoten']\n",
        "y = data['salary']\n",
        "\n",
        "plt.scatter(x, y)\n",
        "plt.show()"
      ],
      "metadata": {
        "id": "1uQUMFPOmTB6"
      },
      "execution_count": null,
      "outputs": []
    },
    {
      "cell_type": "markdown",
      "source": [
        "## Customizing plots\n",
        "Matplotlib plots are highly customizable. You can change the labels, legends, colors, and markers to make your plots more informative and visually appealing."
      ],
      "metadata": {
        "id": "Li9r7Zy1xfkP"
      }
    },
    {
      "cell_type": "markdown",
      "source": [
        "### Figure size"
      ],
      "metadata": {
        "id": "CFfd7e-U_mvf"
      }
    },
    {
      "cell_type": "code",
      "source": [
        "# Create a figure\n",
        "plt.figure(figsize=(10, 8))\n",
        "\n",
        "# Create x and y variables\n",
        "x = data['ceoten']\n",
        "y = data['salary']\n",
        "\n",
        "# Create a line plot\n",
        "plt.scatter(x, y)\n",
        "# Display the plot\n",
        "plt.show()"
      ],
      "metadata": {
        "id": "nuJ81HLR_ptc"
      },
      "execution_count": null,
      "outputs": []
    },
    {
      "cell_type": "markdown",
      "source": [
        "### Adding labels and title"
      ],
      "metadata": {
        "id": "UQwE-gCjxiwt"
      }
    },
    {
      "cell_type": "code",
      "source": [
        "plt.scatter(x, y)\n",
        "\n",
        "# Adding a title\n",
        "plt.title('Salary in $1000s vs. Number of years in the Company as CEO')\n",
        "\n",
        "# Adding the x and y labels\n",
        "plt.xlabel('Years')\n",
        "plt.ylabel('Salary')\n",
        "\n",
        "plt.show()\n"
      ],
      "metadata": {
        "id": "p1FSYvzLxlzz"
      },
      "execution_count": null,
      "outputs": []
    },
    {
      "cell_type": "markdown",
      "source": [
        "### Color"
      ],
      "metadata": {
        "id": "SvhEEMIcyGIq"
      }
    },
    {
      "cell_type": "code",
      "source": [
        "plt.scatter(x,\n",
        "            y,\n",
        "            color='green')\n",
        "\n",
        "# Adding a title\n",
        "plt.title('Salary in $1000s vs. Number of years in the Company as CEO')\n",
        "\n",
        "# Adding the x and y labels\n",
        "plt.xlabel('Years')\n",
        "plt.ylabel('Salary')\n",
        "\n",
        "plt.show()"
      ],
      "metadata": {
        "id": "y3rvoVDRyHPb"
      },
      "execution_count": null,
      "outputs": []
    },
    {
      "cell_type": "markdown",
      "source": [
        "### Marker"
      ],
      "metadata": {
        "id": "FtrX1Zdfz2wH"
      }
    },
    {
      "cell_type": "code",
      "source": [
        "plt.scatter(x,\n",
        "            y,\n",
        "            color='green',\n",
        "            marker='*')\n",
        "\n",
        "# Adding a title\n",
        "plt.title('Salary in $1000s vs. Number of years in the Company as CEO')\n",
        "\n",
        "# Adding the x and y labels\n",
        "plt.xlabel('Years')\n",
        "plt.ylabel('Salary')\n",
        "\n",
        "plt.show()"
      ],
      "metadata": {
        "id": "Xa8nBo51z3HV"
      },
      "execution_count": null,
      "outputs": []
    },
    {
      "cell_type": "markdown",
      "source": [
        "### Size"
      ],
      "metadata": {
        "id": "1orUvG4i0FoT"
      }
    },
    {
      "cell_type": "code",
      "source": [
        "plt.scatter(x,\n",
        "            y,\n",
        "            color='green',\n",
        "            marker='*',\n",
        "            s=100)\n",
        "\n",
        "# Adding a title\n",
        "plt.title('Salary in $1000s vs. Number of years in the Company as CEO')\n",
        "\n",
        "# Adding the x and y labels\n",
        "plt.xlabel('Years')\n",
        "plt.ylabel('Salary')\n",
        "\n",
        "plt.show()"
      ],
      "metadata": {
        "id": "NGw_U0qm0Jux"
      },
      "execution_count": null,
      "outputs": []
    },
    {
      "cell_type": "markdown",
      "source": [
        "### Transparency"
      ],
      "metadata": {
        "id": "PmUUDLP50WY4"
      }
    },
    {
      "cell_type": "code",
      "source": [
        "plt.scatter(x,\n",
        "            y,\n",
        "            color='green',\n",
        "            marker='*',\n",
        "            s=100,\n",
        "            alpha=0.1)\n",
        "\n",
        "# Adding a title\n",
        "plt.title('Salary in $1000s vs. Number of years in the Company as CEO')\n",
        "\n",
        "# Adding the x and y labels\n",
        "plt.xlabel('Years')\n",
        "plt.ylabel('Salary')\n",
        "\n",
        "plt.show()"
      ],
      "metadata": {
        "id": "CXJI-EbA0ViE"
      },
      "execution_count": null,
      "outputs": []
    },
    {
      "cell_type": "markdown",
      "source": [
        "### Border"
      ],
      "metadata": {
        "id": "SHTIXupJ0k-G"
      }
    },
    {
      "cell_type": "code",
      "source": [
        "plt.scatter(x,\n",
        "            y,\n",
        "            color='green',\n",
        "            marker='*',\n",
        "            s=100,\n",
        "            alpha=0.5,\n",
        "            edgecolors='black',\n",
        "            linewidths=1)\n",
        "\n",
        "# Adding a title\n",
        "plt.title('Salary in $1000s vs. Number of years in the Company as CEO')\n",
        "\n",
        "# Adding the x and y labels\n",
        "plt.xlabel('Years')\n",
        "plt.ylabel('Salary')\n",
        "\n",
        "plt.show()"
      ],
      "metadata": {
        "id": "B-Rz3QGr0myj"
      },
      "execution_count": null,
      "outputs": []
    },
    {
      "cell_type": "markdown",
      "source": [
        "### Adding a legend"
      ],
      "metadata": {
        "id": "VCGScu13zttd"
      }
    },
    {
      "cell_type": "code",
      "source": [
        "plt.scatter(x,\n",
        "            y,\n",
        "            color='green',\n",
        "            marker='*',\n",
        "            s=100,\n",
        "            alpha=0.5,\n",
        "            edgecolors='black',\n",
        "            linewidths=0.5,\n",
        "            label='Salary')\n",
        "\n",
        "# Adding a title\n",
        "plt.title('Salary in $1000s vs. Number of years in the Company as CEO')\n",
        "\n",
        "# Adding the x and y labels\n",
        "plt.xlabel('Years')\n",
        "plt.ylabel('Salary')\n",
        "\n",
        "# Adding the legend\n",
        "plt.legend()\n",
        "\n",
        "plt.show()"
      ],
      "metadata": {
        "id": "cOMaoS2hzwiX"
      },
      "execution_count": null,
      "outputs": []
    },
    {
      "cell_type": "markdown",
      "source": [
        "## Multiple plots"
      ],
      "metadata": {
        "id": "3g1bId3Y-NO-"
      }
    },
    {
      "cell_type": "code",
      "source": [
        "z = data['mktval']\n",
        "\n",
        "plt.scatter(x, y, label='Salary')\n",
        "\n",
        "# Adding a second plot\n",
        "plt.scatter(x, z, label='Market Value', color='red', alpha=0.5)\n",
        "\n",
        "plt.xlabel('Year')\n",
        "plt.ylabel('Amount')\n",
        "plt.title('Salary and Market Value vs. Year')\n",
        "plt.legend()\n",
        "\n",
        "plt.show()\n"
      ],
      "metadata": {
        "id": "dbm3UHmW-Pga"
      },
      "execution_count": null,
      "outputs": []
    },
    {
      "cell_type": "markdown",
      "source": [
        "## Subplot"
      ],
      "metadata": {
        "id": "uiklYZnk-7Cm"
      }
    },
    {
      "cell_type": "code",
      "source": [
        "# Create first subplot\n",
        "plt.subplot(2, 1, 1)\n",
        "plt.scatter(x, y, label='Salary')\n",
        "plt.xlabel('Year')\n",
        "plt.ylabel('Amount')\n",
        "plt.title('Salary vs. Year')\n",
        "plt.legend()\n",
        "\n",
        "# Create second subplot\n",
        "plt.subplot(2, 1, 2)\n",
        "plt.scatter(x, z, label='Market Value', color='red')\n",
        "plt.xlabel('Year')\n",
        "plt.ylabel('Amount')\n",
        "plt.title('Market Value vs. Year')\n",
        "plt.legend()\n",
        "\n",
        "# Adjust layout\n",
        "plt.tight_layout()\n",
        "\n",
        "plt.show()\n"
      ],
      "metadata": {
        "id": "lBCAYAJ0_A53"
      },
      "execution_count": null,
      "outputs": []
    }
  ]
}