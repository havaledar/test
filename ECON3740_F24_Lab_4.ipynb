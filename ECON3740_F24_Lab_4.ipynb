{
  "nbformat": 4,
  "nbformat_minor": 0,
  "metadata": {
    "colab": {
      "provenance": [],
      "authorship_tag": "ABX9TyOKLb110PZzcdx9fJzatU8i",
      "include_colab_link": true
    },
    "kernelspec": {
      "name": "python3",
      "display_name": "Python 3"
    },
    "language_info": {
      "name": "python"
    }
  },
  "cells": [
    {
      "cell_type": "markdown",
      "metadata": {
        "id": "view-in-github",
        "colab_type": "text"
      },
      "source": [
        "<a href=\"https://colab.research.google.com/github/havaledar/test/blob/main/ECON3740_F24_Lab_4.ipynb\" target=\"_parent\"><img src=\"https://colab.research.google.com/assets/colab-badge.svg\" alt=\"Open In Colab\"/></a>"
      ]
    },
    {
      "cell_type": "markdown",
      "source": [
        "# Logical operations\n",
        "\n",
        "1. & (AND): Logical AND. Returns True when both conditions are True.\n",
        "2. | (OR): Logical OR. Returns True when at least one of the conditions is True.\n",
        "3. ~ (NOT): Logical NOT. Inverts the boolean values (True becomes False and vice versa)."
      ],
      "metadata": {
        "id": "qKtE_VCRckdl"
      }
    },
    {
      "cell_type": "code",
      "source": [
        "%%capture\n",
        "\n",
        "!pip install wooldridge\n",
        "\n",
        "import wooldridge as woo\n",
        "\n",
        "data = woo.data('401k')"
      ],
      "metadata": {
        "id": "qW6yZWcFjJc8",
        "outputId": "a73acc17-ead8-44f9-a51b-419edab35f54",
        "colab": {
          "base_uri": "https://localhost:8080/",
          "height": 399
        }
      },
      "execution_count": 1,
      "outputs": [
        {
          "output_type": "error",
          "ename": "ModuleNotFoundError",
          "evalue": "No module named 'wooldridge'",
          "traceback": [
            "\u001b[0;31m---------------------------------------------------------------------------\u001b[0m",
            "\u001b[0;31mModuleNotFoundError\u001b[0m                       Traceback (most recent call last)",
            "\u001b[0;32m<ipython-input-1-8279d01c46f2>\u001b[0m in \u001b[0;36m<cell line: 3>\u001b[0;34m()\u001b[0m\n\u001b[1;32m      1\u001b[0m \u001b[0mget_ipython\u001b[0m\u001b[0;34m(\u001b[0m\u001b[0;34m)\u001b[0m\u001b[0;34m.\u001b[0m\u001b[0msystem\u001b[0m\u001b[0;34m(\u001b[0m\u001b[0;34m'pip install wooldridge'\u001b[0m\u001b[0;34m)\u001b[0m\u001b[0;34m\u001b[0m\u001b[0;34m\u001b[0m\u001b[0m\n\u001b[1;32m      2\u001b[0m \u001b[0;34m\u001b[0m\u001b[0m\n\u001b[0;32m----> 3\u001b[0;31m \u001b[0;32mimport\u001b[0m \u001b[0mwooldridge\u001b[0m \u001b[0;32mas\u001b[0m \u001b[0mwoo\u001b[0m\u001b[0;34m\u001b[0m\u001b[0;34m\u001b[0m\u001b[0m\n\u001b[0m\u001b[1;32m      4\u001b[0m \u001b[0;34m\u001b[0m\u001b[0m\n\u001b[1;32m      5\u001b[0m \u001b[0mdata\u001b[0m \u001b[0;34m=\u001b[0m \u001b[0mwoo\u001b[0m\u001b[0;34m.\u001b[0m\u001b[0mdata\u001b[0m\u001b[0;34m(\u001b[0m\u001b[0;34m'401k'\u001b[0m\u001b[0;34m)\u001b[0m\u001b[0;34m\u001b[0m\u001b[0;34m\u001b[0m\u001b[0m\n",
            "\u001b[0;31mModuleNotFoundError\u001b[0m: No module named 'wooldridge'",
            "",
            "\u001b[0;31m---------------------------------------------------------------------------\u001b[0;32m\nNOTE: If your import is failing due to a missing package, you can\nmanually install dependencies using either !pip or !apt.\n\nTo view examples of installing some common dependencies, click the\n\"Open Examples\" button below.\n\u001b[0;31m---------------------------------------------------------------------------\u001b[0m\n"
          ],
          "errorDetails": {
            "actions": [
              {
                "action": "open_url",
                "actionText": "Open Examples",
                "url": "/notebooks/snippets/importing_libraries.ipynb"
              }
            ]
          }
        }
      ]
    },
    {
      "cell_type": "code",
      "source": [
        "sorted(data['age'].unique())"
      ],
      "metadata": {
        "id": "pyho4RSXjhGm",
        "outputId": "83e25f0a-e113-431a-e9ca-9ea856b73894",
        "colab": {
          "base_uri": "https://localhost:8080/",
          "height": 146
        }
      },
      "execution_count": 2,
      "outputs": [
        {
          "output_type": "error",
          "ename": "NameError",
          "evalue": "name 'data' is not defined",
          "traceback": [
            "\u001b[0;31m---------------------------------------------------------------------------\u001b[0m",
            "\u001b[0;31mNameError\u001b[0m                                 Traceback (most recent call last)",
            "\u001b[0;32m<ipython-input-2-bca0ae351814>\u001b[0m in \u001b[0;36m<cell line: 1>\u001b[0;34m()\u001b[0m\n\u001b[0;32m----> 1\u001b[0;31m \u001b[0msorted\u001b[0m\u001b[0;34m(\u001b[0m\u001b[0mdata\u001b[0m\u001b[0;34m[\u001b[0m\u001b[0;34m'age'\u001b[0m\u001b[0;34m]\u001b[0m\u001b[0;34m.\u001b[0m\u001b[0munique\u001b[0m\u001b[0;34m(\u001b[0m\u001b[0;34m)\u001b[0m\u001b[0;34m)\u001b[0m\u001b[0;34m\u001b[0m\u001b[0;34m\u001b[0m\u001b[0m\n\u001b[0m",
            "\u001b[0;31mNameError\u001b[0m: name 'data' is not defined"
          ]
        }
      ]
    },
    {
      "cell_type": "code",
      "source": [
        "data[data['age'] >= 20]"
      ],
      "metadata": {
        "id": "vB3JFKDGtNyo"
      },
      "execution_count": null,
      "outputs": []
    },
    {
      "cell_type": "code",
      "source": [
        "data[(data['age'] >= 20) & (data['age'] <= 30)]"
      ],
      "metadata": {
        "id": "zZl9GwxVcbO0"
      },
      "execution_count": null,
      "outputs": []
    },
    {
      "cell_type": "code",
      "source": [
        "data[(data['age'] >= 20) | (data['age'] <= 30)]"
      ],
      "metadata": {
        "id": "9reIkADYdMvj"
      },
      "execution_count": null,
      "outputs": []
    },
    {
      "cell_type": "markdown",
      "source": [
        "# Selecting rows and Columns"
      ],
      "metadata": {
        "id": "hPxBgbkEldFC"
      }
    },
    {
      "cell_type": "code",
      "source": [
        "data[['mrate', 'prate']]"
      ],
      "metadata": {
        "id": "w1BhP2DBllnY"
      },
      "execution_count": null,
      "outputs": []
    },
    {
      "cell_type": "code",
      "source": [
        "data[:5]"
      ],
      "metadata": {
        "id": "gTiTg9kx-8UA"
      },
      "execution_count": null,
      "outputs": []
    },
    {
      "cell_type": "markdown",
      "source": [
        "# Concating dataframes"
      ],
      "metadata": {
        "id": "I_NgMMf3-qAH"
      }
    },
    {
      "cell_type": "code",
      "source": [
        "df20 = data[(data['age'] == 20)]"
      ],
      "metadata": {
        "id": "B_PKBhZ5kcbd"
      },
      "execution_count": null,
      "outputs": []
    },
    {
      "cell_type": "code",
      "source": [
        "df30 = data[(data['age'] == 30)]"
      ],
      "metadata": {
        "id": "7wqXqMzolEEd"
      },
      "execution_count": null,
      "outputs": []
    },
    {
      "cell_type": "code",
      "source": [
        "import pandas as pd\n",
        "pd.concat([df20, df30])"
      ],
      "metadata": {
        "id": "bzLFhFN0_Osh"
      },
      "execution_count": null,
      "outputs": []
    },
    {
      "cell_type": "markdown",
      "source": [
        "# if"
      ],
      "metadata": {
        "id": "vclQu1fdhztf"
      }
    },
    {
      "cell_type": "code",
      "source": [
        "num = -10\n",
        "\n",
        "if num > 0:\n",
        "    print(\"The number is positive.\")"
      ],
      "metadata": {
        "id": "teY9UZfeh3T0"
      },
      "execution_count": null,
      "outputs": []
    },
    {
      "cell_type": "code",
      "source": [
        "num = -10\n",
        "\n",
        "if num > 0:\n",
        "    print(\"The number is positive.\")\n",
        "else:\n",
        "    print(\"The number is not positive.\")"
      ],
      "metadata": {
        "id": "G1ureCmqh_oG"
      },
      "execution_count": null,
      "outputs": []
    },
    {
      "cell_type": "code",
      "source": [
        "num = 10\n",
        "\n",
        "if num > 0:\n",
        "    print(\"The number is positive.\")\n",
        "elif num == 0:\n",
        "    print(\"The number is zero.\")\n",
        "else:\n",
        "    print(\"The number is negative.\")"
      ],
      "metadata": {
        "id": "UL5CWA44iCtS"
      },
      "execution_count": null,
      "outputs": []
    },
    {
      "cell_type": "markdown",
      "source": [
        "# for"
      ],
      "metadata": {
        "id": "tRBryU8Qh1nZ"
      }
    },
    {
      "cell_type": "code",
      "source": [
        "fruits = ['apple', 'banana', 'cherry']"
      ],
      "metadata": {
        "id": "_4T8kre1zRxK"
      },
      "execution_count": null,
      "outputs": []
    },
    {
      "cell_type": "code",
      "source": [
        "fruits[2]"
      ],
      "metadata": {
        "id": "GUawBDR7Nhec"
      },
      "execution_count": null,
      "outputs": []
    },
    {
      "cell_type": "code",
      "source": [
        "fruits = ['apple', 'banana', 'cherry']\n",
        "\n",
        "for f in fruits:\n",
        "    print(f)"
      ],
      "metadata": {
        "id": "yZxvxItXiFDN"
      },
      "execution_count": null,
      "outputs": []
    },
    {
      "cell_type": "code",
      "source": [
        "numbers = [1, 2, 3, 4, 5]\n",
        "total = 0\n",
        "\n",
        "for num in numbers:\n",
        "    total += num\n",
        "    print(total)\n",
        "\n",
        "# print(total)"
      ],
      "metadata": {
        "id": "GtNXhiuLiJea"
      },
      "execution_count": null,
      "outputs": []
    },
    {
      "cell_type": "markdown",
      "source": [
        "## range"
      ],
      "metadata": {
        "id": "KvoNLfHDiOQp"
      }
    },
    {
      "cell_type": "code",
      "source": [
        "list(range(1, 6))"
      ],
      "metadata": {
        "id": "HQ96GqThiqJK"
      },
      "execution_count": null,
      "outputs": []
    },
    {
      "cell_type": "code",
      "source": [
        "total = 0\n",
        "\n",
        "for i in range(1,6):\n",
        "    total += i\n",
        "\n",
        "print(f\"The total sum is {total}\")"
      ],
      "metadata": {
        "id": "_7L-Wj4iiWe_"
      },
      "execution_count": null,
      "outputs": []
    },
    {
      "cell_type": "markdown",
      "source": [
        "#Google Drive"
      ],
      "metadata": {
        "id": "XENHIB9OKfDH"
      }
    },
    {
      "cell_type": "code",
      "source": [
        "# !pip install gdown==v4.6.3\n",
        "import gdown\n",
        "import pandas as pd"
      ],
      "metadata": {
        "id": "FAty35lHHHL3"
      },
      "execution_count": null,
      "outputs": []
    },
    {
      "cell_type": "markdown",
      "source": [
        "\n",
        "\n",
        "1.   Upload your file to the Google Drive.\n",
        "2.   Click **Share** and change the access to **Anyone with the link**.\n",
        "3. Copy the URL to the file.\n",
        "\n"
      ],
      "metadata": {
        "id": "G66fsvhKLoTC"
      }
    },
    {
      "cell_type": "markdown",
      "source": [
        "![Screenshot 2024-09-27 7.12.07 AM.png](data:image/png;base64,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)"
      ],
      "metadata": {
        "id": "kxVfaaOsLfmS"
      }
    },
    {
      "cell_type": "code",
      "source": [
        "url = 'https://drive.google.com/file/d/1eq0As_rQFayM4d6QR43owoW4huD3urhE/view?usp=sharing'\n",
        "output_filename = 'file.dta'\n",
        "gdown.download(url, output_filename, fuzzy=True ,quiet=False)"
      ],
      "metadata": {
        "id": "n76alGh-HDI2"
      },
      "execution_count": null,
      "outputs": []
    },
    {
      "cell_type": "code",
      "source": [
        "pd.read_stata(\"file.dta\")"
      ],
      "metadata": {
        "id": "d9AIhBTDMN9v"
      },
      "execution_count": null,
      "outputs": []
    },
    {
      "cell_type": "markdown",
      "source": [
        "#URL"
      ],
      "metadata": {
        "id": "7PDDv9X-LKFS"
      }
    },
    {
      "cell_type": "code",
      "source": [
        "data = pd.read_excel(\"https://cengage-dps.s3.amazonaws.com/economics/690273_wooldridge_8e/meap01_v4.xlsx\")"
      ],
      "metadata": {
        "id": "qGCGz2rTK6rs"
      },
      "execution_count": null,
      "outputs": []
    },
    {
      "cell_type": "markdown",
      "source": [
        "# Stats Canada"
      ],
      "metadata": {
        "id": "BXqgDWOnrSxg"
      }
    },
    {
      "cell_type": "code",
      "source": [
        "%%capture\n",
        "!pip install stats-can"
      ],
      "metadata": {
        "id": "RIzfsgznqIOA"
      },
      "execution_count": null,
      "outputs": []
    },
    {
      "cell_type": "code",
      "execution_count": null,
      "metadata": {
        "id": "6daEvgU2e38b"
      },
      "outputs": [],
      "source": [
        "import stats_can"
      ]
    },
    {
      "cell_type": "markdown",
      "source": [
        "Total employed, all classes of workers\n",
        "\n",
        "https://www150.statcan.gc.ca/t1/tbl1/en/cv.action?pid=1410028801"
      ],
      "metadata": {
        "id": "ZwsrEfuvz_oP"
      }
    },
    {
      "cell_type": "code",
      "source": [
        "df = stats_can.sc.vectors_to_df('v2066967', periods = 20)"
      ],
      "metadata": {
        "id": "qbtNktnKsOg1"
      },
      "execution_count": null,
      "outputs": []
    },
    {
      "cell_type": "code",
      "source": [
        "df.columns = ['Total employed']\n",
        "\n",
        "df"
      ],
      "metadata": {
        "id": "3zC61DXmu3FB"
      },
      "execution_count": null,
      "outputs": []
    },
    {
      "cell_type": "markdown",
      "source": [
        "# Scraping"
      ],
      "metadata": {
        "id": "p-MadWhZumpe"
      }
    },
    {
      "cell_type": "code",
      "source": [
        "url = \"https://en.wikipedia.org/wiki/Economy_of_Canada\""
      ],
      "metadata": {
        "id": "sDoWwbkMqm5j"
      },
      "execution_count": null,
      "outputs": []
    },
    {
      "cell_type": "markdown",
      "source": [
        "## Pandas"
      ],
      "metadata": {
        "id": "7PL_wiXionWG"
      }
    },
    {
      "cell_type": "code",
      "source": [
        "tables = pd.read_html(url)\n",
        "\n",
        "tables[5]"
      ],
      "metadata": {
        "id": "cRG1juBPpPCl"
      },
      "execution_count": null,
      "outputs": []
    },
    {
      "cell_type": "markdown",
      "source": [
        "## BeautifulSoup"
      ],
      "metadata": {
        "id": "3CUYut9PolAc"
      }
    },
    {
      "cell_type": "code",
      "source": [
        "import requests\n",
        "from bs4 import BeautifulSoup"
      ],
      "metadata": {
        "id": "8XxohxZNeRK0"
      },
      "execution_count": null,
      "outputs": []
    },
    {
      "cell_type": "code",
      "source": [
        "# Downloading contents of the web page\n",
        "data = requests.get(url).text"
      ],
      "metadata": {
        "id": "DPENJ5sbgMWG"
      },
      "execution_count": null,
      "outputs": []
    },
    {
      "cell_type": "code",
      "source": [
        "# Creating BeautifulSoup object\n",
        "soup = BeautifulSoup(data, 'html.parser')"
      ],
      "metadata": {
        "id": "ZPt-nEosgSmm"
      },
      "execution_count": null,
      "outputs": []
    },
    {
      "cell_type": "code",
      "source": [
        "# Verifying tables and their classes\n",
        "print('Classes of each table:')\n",
        "for table in soup.find_all('table'):\n",
        "    print(table.get('class'))"
      ],
      "metadata": {
        "id": "B6JHx1ovgUkh"
      },
      "execution_count": null,
      "outputs": []
    },
    {
      "cell_type": "code",
      "source": [
        "# Creating list with all tables\n",
        "tables = soup.find_all('table')"
      ],
      "metadata": {
        "id": "sw9pf49ag6ei"
      },
      "execution_count": null,
      "outputs": []
    },
    {
      "cell_type": "code",
      "source": [
        "tables[5]"
      ],
      "metadata": {
        "id": "UHidYpj0iXjP"
      },
      "execution_count": null,
      "outputs": []
    },
    {
      "cell_type": "code",
      "source": [
        "columns = [\n",
        "    'Year',\n",
        "    'GDP_PPP_Bil_USD',\n",
        "    'GDP_per_capita_PPP_USD',\n",
        "    'GDP_nominal_Bil_USD',\n",
        "    'GDP_per_capita_nominal_USD',\n",
        "    'GDP_growth_real',\n",
        "    'Inflation_rate_percent',\n",
        "    'Unemployment_percent',\n",
        "    'Government_debt_percent_of_GDP'\n",
        "]\n",
        "\n",
        "df = pd.DataFrame(columns=columns)"
      ],
      "metadata": {
        "id": "QY6wUrVajvJt"
      },
      "execution_count": null,
      "outputs": []
    },
    {
      "cell_type": "code",
      "source": [
        "for row in tables[5].tbody.find_all('tr'):\n",
        "    # Find all data for each column\n",
        "    columns = row.find_all('td')\n",
        "\n",
        "    if columns != []:\n",
        "        year = columns[0].text.strip()\n",
        "        gdp_ppp_bil_usd = columns[1].text.strip()\n",
        "        gdp_per_capita_ppp_usd = columns[2].text.strip()\n",
        "        gdp_nominal_bil_usd = columns[3].text.strip()\n",
        "        gdp_per_capita_nominal_usd = columns[4].text.strip()\n",
        "        gdp_growth_real = columns[5].text.strip()\n",
        "        inflation_rate_percent = columns[6].text.strip()\n",
        "        unemployment_percent = columns[7].text.strip()\n",
        "        government_debt_percent_of_gdp = columns[8].text.strip()\n",
        "\n",
        "        row_data = {\n",
        "            'Year': year,\n",
        "            'GDP_PPP_Bil_USD': gdp_ppp_bil_usd,\n",
        "            'GDP_per_capita_PPP_USD': gdp_per_capita_ppp_usd,\n",
        "            'GDP_nominal_Bil_USD': gdp_nominal_bil_usd,\n",
        "            'GDP_per_capita_nominal_USD': gdp_per_capita_nominal_usd,\n",
        "            'GDP_growth_real': gdp_growth_real,\n",
        "            'Inflation_rate_percent': inflation_rate_percent,\n",
        "            'Unemployment_percent': unemployment_percent,\n",
        "            'Government_debt_percent_of_GDP': government_debt_percent_of_gdp\n",
        "        }\n",
        "\n",
        "        # Convert row_data to a DataFrame\n",
        "        row_df = pd.DataFrame([row_data])\n",
        "\n",
        "        # Use pandas.concat to add the row to the df_short DataFrame\n",
        "        df = pd.concat([df, row_df], ignore_index=True)"
      ],
      "metadata": {
        "id": "iKIKOyNDg7ZZ"
      },
      "execution_count": null,
      "outputs": []
    },
    {
      "cell_type": "code",
      "source": [
        "df.head()"
      ],
      "metadata": {
        "id": "k9iz7qe8k2o9"
      },
      "execution_count": null,
      "outputs": []
    }
  ]
}